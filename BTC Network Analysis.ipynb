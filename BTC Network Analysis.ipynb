{
 "cells": [
  {
   "cell_type": "markdown",
   "metadata": {},
   "source": [
    "# <center>BTC network analysis  -Mt.Gox case </center>\n",
    "### <center>Le Hoang Viet, Tang Hongxia , Hu Liang </center>"
   ]
  },
  {
   "cell_type": "markdown",
   "metadata": {},
   "source": [
    "## Introduction \n",
    "### Mt.Gox and Mt.Gox hacking incident.\n",
    "Mt.Gox, launched in 2010 by US programmer Jed McCaleb. Mt.Gox was a bitcoin exchange in Japan. It was the largest bitcoin exchange in the world, handled over 70% of all bitcoin transactions all over the world before. At the end of February 2014, it was bankrupted because they get hacked and they suffered a great loss. \n",
    "\n",
    "Let's take a look at the whole timeline of this event.\n",
    "\n",
    "On February 7, 2014, Mt. Gox stopped all Bitcoin withdrawals, claiming that it was only suspending withdrawal requests \"to gain a clear technical understanding of the currency process.\"\n",
    "\n",
    "On February 10, 2014, Mt.Gox claimed that it had lost more than 850,000 BTC. That same week, a leaked company document claimed that hackers attacked Mt. Gox and they stole 744,408 belonging to Mt. Gox customers, as well as 100,000 bitcoins belonging to Mt.Gox. \n",
    "\n",
    "On 24 February 2014, the exchange suspended all trading and closed the website. \n",
    "\n",
    "On February 28, Mt. Gox filed for bankruptcy protection in Japan and two weeks later in the United States.\n",
    "\n",
    "### Three hypothesis.\n",
    "Mt.Gox sustained a large loss of Bitcoins, and this loss should be reflected in the transaction data or blockchain data. We want to confirm if the theft involved large bitcoin flows during a short period of time. There are three hypothesis are listed below, and we want to use data to confirm which is correct. \n",
    "+ H1: Transaction with both big size and high frequency.\n",
    "+ H2: Transaction with big size and normal frequency.\n",
    "+ H3: Transaction with normal size and high frequency.\n",
    "\n",
    "After analysing the data, we choose to accept the second hypothesis.\n",
    "\n"
   ]
  },
  {
   "cell_type": "code",
   "execution_count": 8,
   "metadata": {},
   "outputs": [],
   "source": [
    "import pandas as pd\n",
    "import numpy as np\n",
    "from datetime import datetime\n",
    "import networkx as nx\n",
    "import matplotlib.pyplot as plt\n",
    "from scipy import stats\n",
    "from IPython.display import Image"
   ]
  },
  {
   "cell_type": "markdown",
   "metadata": {},
   "source": [
    "# Data Description"
   ]
  },
  {
   "cell_type": "markdown",
   "metadata": {},
   "source": [
    "To reduce the size of dataset when we draw graph, we will focus more on the transaction data which the transaction more than 15 BTC. This help us to simplify the graph sets and to discover large currency flows more efficient.\n",
    "\n",
    "According to the Mt.Gox incident timeline, Mt.Gox stopped all Bitcoin withdrawals on February 7, 2014. Since the theft can't occur after the suspension of withdrawals, so we choose to analyze what happened before February 7, 2014. Also, according to related paper and article of Zhao and Guan[[1]](#1), they find the transaction burst from 23:57:01 2014-02-05 to 00:28:17 2014-02-06. So, even though we don't have data after 5am February 6,2014. We can still do our analysis about this hacking incident. Thus, our analysis started with the timestamp 1391465170 and ended at the timestamp 1391662945, from 2/3/2014 10:06:00 PM to 2/6/2014 5:02:00 AM.\n",
    "Because it starts to break at February 6, that we have very scarce data until March 10, 2014 when it gets back to normal. Thus we choose this time interval."
   ]
  },
  {
   "cell_type": "code",
   "execution_count": 9,
   "metadata": {},
   "outputs": [],
   "source": [
    "data=pd.read_csv('https://raw.githubusercontent.com/HongxiaTang/Mt.Gox/master/data/MtGoxFull.csv',low_memory=False)\n",
    "\n",
    "data['timestamp']=pd.to_datetime(data['timestamp'],unit='s')\n",
    "data.set_index('timestamp',inplace=True)"
   ]
  },
  {
   "cell_type": "markdown",
   "metadata": {},
   "source": [
    "### Basic describe of the data:\n",
    "\n",
    "The amount of transation varies from 0.0000 to 17964.778282, while average during this period is 3.82. Most of the trasnsaction are small amount, half of the transactions are less than 0.0400, 75% of the transactions are less than 0.2471.\n",
    "According to the data, we find that there are huge-amount transaction and small-amount but huge frenquency transaction. So how did the hacking happened?<br/>\n",
    "    H1: Through huge-amount & high frenquency transactions <br/>\n",
    "    H2: Through huge-amount & normal frenquency transaction<br/>\n",
    "    H3：Through small-amount & high frenquency transactions<br/>\n",
    "Following the three hypothesis, we conducted our investigation with the evolution of size and number(which shows the frequancy) of transactions during this period, following a 15 minutes time interval."
   ]
  },
  {
   "cell_type": "code",
   "execution_count": 10,
   "metadata": {},
   "outputs": [
    {
     "data": {
      "text/plain": [
       "<bound method DatetimeIndexOpsMixin.max of DatetimeIndex(['2014-02-03 22:06:10', '2014-02-03 22:06:10',\n",
       "               '2014-02-03 22:06:10', '2014-02-03 22:06:10',\n",
       "               '2014-02-03 22:06:10', '2014-02-03 22:06:10',\n",
       "               '2014-02-03 22:06:10', '2014-02-03 22:06:10',\n",
       "               '2014-02-03 22:06:10', '2014-02-03 22:06:10',\n",
       "               ...\n",
       "               '2014-02-06 05:02:25', '2014-02-06 05:02:25',\n",
       "               '2014-02-06 05:02:25', '2014-02-06 05:02:25',\n",
       "               '2014-02-06 05:02:25', '2014-02-06 05:02:25',\n",
       "               '2014-02-06 05:02:25', '2014-02-06 05:02:25',\n",
       "               '2014-02-06 05:02:25', '2014-02-06 05:02:25'],\n",
       "              dtype='datetime64[ns]', name='timestamp', length=465776, freq=None)>"
      ]
     },
     "execution_count": 10,
     "metadata": {},
     "output_type": "execute_result"
    }
   ],
   "source": [
    "data.index.min\n",
    "data.index.max"
   ]
  },
  {
   "cell_type": "code",
   "execution_count": 11,
   "metadata": {
    "scrolled": true
   },
   "outputs": [
    {
     "data": {
      "text/plain": [
       "count    465776.000000\n",
       "mean          3.822747\n",
       "std          97.805456\n",
       "min           0.000000\n",
       "25%           0.010262\n",
       "50%           0.040000\n",
       "75%           0.247144\n",
       "max       17964.778280\n",
       "Name: value, dtype: float64"
      ]
     },
     "execution_count": 11,
     "metadata": {},
     "output_type": "execute_result"
    }
   ],
   "source": [
    "data.value.describe()"
   ]
  },
  {
   "cell_type": "markdown",
   "metadata": {},
   "source": [
    "### Evolution of the size of transaction during the period"
   ]
  },
  {
   "cell_type": "code",
   "execution_count": 12,
   "metadata": {
    "scrolled": true
   },
   "outputs": [
    {
     "data": {
      "text/plain": [
       "<matplotlib.axes._subplots.AxesSubplot at 0x1ffd374a4a8>"
      ]
     },
     "execution_count": 12,
     "metadata": {},
     "output_type": "execute_result"
    },
    {
     "data": {
      "image/png": "[encoded data removed]",
      "text/plain": [
       "<Figure size 432x288 with 1 Axes>"
      ]
     },
     "metadata": {
      "needs_background": "light"
     },
     "output_type": "display_data"
    }
   ],
   "source": [
    "time_interval='15Min'\n",
    "tota=data.resample(time_interval).sum()\n",
    "tota.valueDoll.plot()"
   ]
  },
  {
   "cell_type": "markdown",
   "metadata": {},
   "source": [
    "We group the amount of bitcoin transaction with a 15 minutes time interval, and we find From 6pm to 0am 05 Feb there were 3 spikes in the size of transaction which were abnormally higher than normal, the maximum peak burst appears at 2014-01-05 21:30:00, while the value is 1.164e+08 $."
   ]
  },
  {
   "cell_type": "markdown",
   "metadata": {},
   "source": [
    "### Evolution of the number of transaction during the period"
   ]
  },
  {
   "cell_type": "code",
   "execution_count": 13,
   "metadata": {},
   "outputs": [
    {
     "data": {
      "text/plain": [
       "<matplotlib.axes._subplots.AxesSubplot at 0x1ffcf0e2e10>"
      ]
     },
     "execution_count": 13,
     "metadata": {},
     "output_type": "execute_result"
    },
    {
     "data": {
      "image/png": "[encoded data removed]",
      "text/plain": [
       "<Figure size 432x288 with 1 Axes>"
      ]
     },
     "metadata": {
      "needs_background": "light"
     },
     "output_type": "display_data"
    }
   ],
   "source": [
    "tota=data.resample(time_interval).count()\n",
    "tota.valueDoll.plot()"
   ]
  },
  {
   "cell_type": "markdown",
   "metadata": {},
   "source": [
    "From 6pm to 0am 05 Feb there were no spike in the number of transaction, which means there were a few transactions with really big volume happened instead of severval small transactions. May imply the moving of BTC of big players.\n",
    "\n",
    "Around 5am 06 Feb, there were abnormally high number of transaction but the size of transaction were not higher than normal. May indicates the movement of BTC of small investors. Maybe the slow reaction of the small investors to the news, the herding amplify the influence of this hacking event."
   ]
  },
  {
   "cell_type": "markdown",
   "metadata": {},
   "source": [
    "### Convert into edge list"
   ]
  },
  {
   "cell_type": "code",
   "execution_count": 14,
   "metadata": {},
   "outputs": [],
   "source": [
    "edge=nx.from_pandas_edgelist(data,source='source',\n",
    "                                   target='target',edge_attr=True,\n",
    "                                   create_using=nx.DiGraph())"
   ]
  },
  {
   "cell_type": "markdown",
   "metadata": {},
   "source": [
    "Show number of nodes and edges, conclude that there are too many nodes and edges, have to filter the data."
   ]
  },
  {
   "cell_type": "code",
   "execution_count": 15,
   "metadata": {
    "scrolled": true
   },
   "outputs": [
    {
     "data": {
      "text/plain": [
       "163108"
      ]
     },
     "execution_count": 15,
     "metadata": {},
     "output_type": "execute_result"
    }
   ],
   "source": [
    "edge.number_of_nodes()"
   ]
  },
  {
   "cell_type": "code",
   "execution_count": 16,
   "metadata": {},
   "outputs": [
    {
     "data": {
      "text/plain": [
       "297242"
      ]
     },
     "execution_count": 16,
     "metadata": {},
     "output_type": "execute_result"
    }
   ],
   "source": [
    "edge.number_of_edges()"
   ]
  },
  {
   "cell_type": "markdown",
   "metadata": {},
   "source": [
    "Checking the percentile of transaction with the size higher than 15"
   ]
  },
  {
   "cell_type": "code",
   "execution_count": 17,
   "metadata": {
    "scrolled": true
   },
   "outputs": [
    {
     "data": {
      "text/plain": [
       "97.59133145546357"
      ]
     },
     "execution_count": 17,
     "metadata": {},
     "output_type": "execute_result"
    }
   ],
   "source": [
    "stats.percentileofscore(data['value'],15)"
   ]
  },
  {
   "cell_type": "markdown",
   "metadata": {},
   "source": [
    "### Filter data with transaction size greater than 15"
   ]
  },
  {
   "cell_type": "code",
   "execution_count": 18,
   "metadata": {},
   "outputs": [],
   "source": [
    "data2=data[data.value>15]"
   ]
  },
  {
   "cell_type": "code",
   "execution_count": 19,
   "metadata": {},
   "outputs": [
    {
     "data": {
      "text/plain": [
       "<matplotlib.axes._subplots.AxesSubplot at 0x1ffcf174eb8>"
      ]
     },
     "execution_count": 19,
     "metadata": {},
     "output_type": "execute_result"
    },
    {
     "data": {
      "image/png": "[encoded data removed]",
      "text/plain": [
       "<Figure size 432x288 with 1 Axes>"
      ]
     },
     "metadata": {
      "needs_background": "light"
     },
     "output_type": "display_data"
    }
   ],
   "source": [
    "tota=data2.resample(time_interval).sum()\n",
    "tota.valueDoll.plot()"
   ]
  },
  {
   "cell_type": "markdown",
   "metadata": {},
   "source": [
    "The transaction size when filtered out transaction lower than 15 stays almost the same"
   ]
  },
  {
   "cell_type": "code",
   "execution_count": 20,
   "metadata": {},
   "outputs": [
    {
     "data": {
      "text/plain": [
       "<matplotlib.axes._subplots.AxesSubplot at 0x1ffdf323748>"
      ]
     },
     "execution_count": 20,
     "metadata": {},
     "output_type": "execute_result"
    },
    {
     "data": {
      "image/png": "[encoded data removed]",
      "text/plain": [
       "<Figure size 432x288 with 1 Axes>"
      ]
     },
     "metadata": {
      "needs_background": "light"
     },
     "output_type": "display_data"
    }
   ],
   "source": [
    "tota=data2.resample(time_interval).count()\n",
    "tota.valueDoll.plot()"
   ]
  },
  {
   "cell_type": "markdown",
   "metadata": {},
   "source": [
    "Regarding the number of transaction, there is no spike in 06 Feb like when it is not filtered. Further support for the assumption of most of the spike from transaction were from small investors."
   ]
  },
  {
   "cell_type": "code",
   "execution_count": 21,
   "metadata": {},
   "outputs": [],
   "source": [
    "edge2=nx.from_pandas_edgelist(data2,source='source',\n",
    "                                   target='target',edge_attr=True,\n",
    "                                   create_using=nx.DiGraph())"
   ]
  },
  {
   "cell_type": "code",
   "execution_count": 22,
   "metadata": {},
   "outputs": [
    {
     "data": {
      "text/plain": [
       "10093"
      ]
     },
     "execution_count": 22,
     "metadata": {},
     "output_type": "execute_result"
    }
   ],
   "source": [
    "edge2.number_of_nodes()"
   ]
  },
  {
   "cell_type": "code",
   "execution_count": 23,
   "metadata": {},
   "outputs": [
    {
     "data": {
      "text/plain": [
       "9938"
      ]
     },
     "execution_count": 23,
     "metadata": {},
     "output_type": "execute_result"
    }
   ],
   "source": [
    "edge2.number_of_edges()"
   ]
  },
  {
   "cell_type": "markdown",
   "metadata": {},
   "source": [
    "After filtering the number of edges and nodes were significantly reduced."
   ]
  },
  {
   "cell_type": "markdown",
   "metadata": {},
   "source": [
    "## Exploring the data with Gephi\n",
    "### ForceAtlas 2 by Degree"
   ]
  },
  {
   "cell_type": "markdown",
   "metadata": {},
   "source": [
    "<img src=\"https://github.com/HongxiaTang/Mt.Gox/raw/master/Viet's%20code/Degree.png\" width=\"800\" height=\"800\">"
   ]
  },
  {
   "cell_type": "markdown",
   "metadata": {},
   "source": [
    "Here we can see that most of BTC transactions at that time centered around the account of \"Bitstamp.net-old\".\n",
    "Further look at the account of Bitstamp using Ego network filtered with the maximal depth, we have this result.\n",
    "\n",
    "<img src=\"https://github.com/HongxiaTang/Mt.Gox/raw/master/Viet's%20code/Bitstamp_Max_depth.png\" width=\"800\" height=\"800\">"
   ]
  },
  {
   "cell_type": "markdown",
   "metadata": {},
   "source": [
    "Bitstamp has much higher degree compared to Mtgox. This is strange as Mtgox was the biggest exchange at that time. Maybe the wallet addresses of Mtgox is not fully identified. Or there were actually way less transactions in and out of Mtgox and most of the transactions in Mtgox were excuted by the own infrastructure and were not recorded in the BTC blockchain.\n",
    "<img src=\"https://github.com/HongxiaTang/Mt.Gox/raw/master/Viet's%20code/Bitstamp_depth_3.png\" width=\"800\" height=\"800\">"
   ]
  },
  {
   "cell_type": "markdown",
   "metadata": {},
   "source": [
    "Here is the Yifan Hu layout of Bitstamp with depth of 3, we can see more clearly the connection of Bitstamp with other big BTC participant like BTC-e, ePay, Cryptsy, etc... We can see the same phenomenon with MtGox by the following graph but less direct connection compared to Bitstamp:\n",
    "<img src=\"https://github.com/HongxiaTang/Mt.Gox/raw/master/Viet's%20code/mtgox_depth_3.png\" width=\"800\" height=\"800\">"
   ]
  },
  {
   "cell_type": "markdown",
   "metadata": {},
   "source": [
    "### ForceAtlas 2 by BTC size\n",
    "\n",
    "Next, we try to include the effect of BTC size into our models by using the BTC size as the weighted edges\n",
    "<img src=\"https://github.com/HongxiaTang/Mt.Gox/raw/master/Viet's%20code/Weight.png\" width=\"800\" height=\"800\">"
   ]
  },
  {
   "cell_type": "markdown",
   "metadata": {},
   "source": [
    "From the graph, we can see that with the inclusion of the size effect, the big exchanges are no longer the biggest nodes. On the contrary, we see the biggest transactions came from the unknown addresses of 220091, 107889339 and 2650972. It is even stranger that there is no big transaction out of MtGox. Here is the specific graph of MtGox:\n",
    "\n",
    "<img src=\"https://github.com/HongxiaTang/Mt.Gox/raw/master/Viet's%20code/MtGox_weight.png\" width=\"800\" height=\"800\">"
   ]
  },
  {
   "cell_type": "raw",
   "metadata": {},
   "source": [
    "We can see that most transactions in and out of MtGox were less than 100 BTC. But we saw really big transactions happend on Feb 5th 2014 and we probably expected a big withdrawal of BTC from MtGox due to the hacking. The answer might be like we explain previously that here we could only identify the hot wallet addresses of MtGox but not those of the cold wallet. As most of the hacked BTC was from MtGox's cold wallets and we cannot identify them, we can only suspect them from the big transaction during the time. Maybe the cold wallets of MtGox were\n",
    "those will really big withdrawal."
   ]
  },
  {
   "cell_type": "markdown",
   "metadata": {},
   "source": [
    "<font Size = 3>**Outward transactions (Weight Out-Degree in Gephi)**</font> <br/>\n",
    "Here we have the graph with the node size based on the outward transactions (Weight Out-Degree in Gephi):\n",
    "<img src=\"https://github.com/HongxiaTang/Mt.Gox/raw/master/Viet's%20code/Weight_Out.png\" width=\"800\" height=\"800\">"
   ]
  },
  {
   "cell_type": "markdown",
   "metadata": {},
   "source": [
    "Here we can see that the biggest node was the account of \"220091\". Further exploring the transaction of the account, we have the following graph:\n",
    "<img src=\"https://github.com/HongxiaTang/Mt.Gox/raw/master/Viet's%20code/220091.png\" width=\"500\" height=\"500\">"
   ]
  },
  {
   "cell_type": "markdown",
   "metadata": {},
   "source": [
    "There were indeed 8 transactions out of \"220091\" to other 8 accounts, each with 10,000 BTC. In total there were 80,000 BTC transfered from this wallet during the period. All of these transactions happened around 6pm Feb 5th 2014 and were probably the cause of the big spike in transaction volume during the time."
   ]
  },
  {
   "cell_type": "code",
   "execution_count": 24,
   "metadata": {},
   "outputs": [
    {
     "data": {
      "text/html": [
       "<div>\n",
       "<style scoped>\n",
       "    .dataframe tbody tr th:only-of-type {\n",
       "        vertical-align: middle;\n",
       "    }\n",
       "\n",
       "    .dataframe tbody tr th {\n",
       "        vertical-align: top;\n",
       "    }\n",
       "\n",
       "    .dataframe thead th {\n",
       "        text-align: right;\n",
       "    }\n",
       "</style>\n",
       "<table border=\"1\" class=\"dataframe\">\n",
       "  <thead>\n",
       "    <tr style=\"text-align: right;\">\n",
       "      <th></th>\n",
       "      <th>source</th>\n",
       "      <th>target</th>\n",
       "      <th>value</th>\n",
       "      <th>valueDoll</th>\n",
       "      <th>time</th>\n",
       "    </tr>\n",
       "    <tr>\n",
       "      <th>timestamp</th>\n",
       "      <th></th>\n",
       "      <th></th>\n",
       "      <th></th>\n",
       "      <th></th>\n",
       "      <th></th>\n",
       "    </tr>\n",
       "  </thead>\n",
       "  <tbody>\n",
       "    <tr>\n",
       "      <th>2014-02-05 17:33:30</th>\n",
       "      <td>220091</td>\n",
       "      <td>70839568</td>\n",
       "      <td>10000.000</td>\n",
       "      <td>8.208700e+06</td>\n",
       "      <td>NaN</td>\n",
       "    </tr>\n",
       "    <tr>\n",
       "      <th>2014-02-05 17:34:02</th>\n",
       "      <td>220091</td>\n",
       "      <td>6679327</td>\n",
       "      <td>10000.000</td>\n",
       "      <td>8.208700e+06</td>\n",
       "      <td>NaN</td>\n",
       "    </tr>\n",
       "    <tr>\n",
       "      <th>2014-02-05 17:37:03</th>\n",
       "      <td>220091</td>\n",
       "      <td>74658878</td>\n",
       "      <td>10000.000</td>\n",
       "      <td>8.208700e+06</td>\n",
       "      <td>NaN</td>\n",
       "    </tr>\n",
       "    <tr>\n",
       "      <th>2014-02-05 17:37:03</th>\n",
       "      <td>220091</td>\n",
       "      <td>49001138</td>\n",
       "      <td>10000.000</td>\n",
       "      <td>8.208700e+06</td>\n",
       "      <td>NaN</td>\n",
       "    </tr>\n",
       "    <tr>\n",
       "      <th>2014-02-05 17:43:12</th>\n",
       "      <td>220091</td>\n",
       "      <td>55107815</td>\n",
       "      <td>10000.000</td>\n",
       "      <td>8.208700e+06</td>\n",
       "      <td>NaN</td>\n",
       "    </tr>\n",
       "    <tr>\n",
       "      <th>2014-02-05 17:43:12</th>\n",
       "      <td>220091</td>\n",
       "      <td>115170519</td>\n",
       "      <td>10000.000</td>\n",
       "      <td>8.208700e+06</td>\n",
       "      <td>NaN</td>\n",
       "    </tr>\n",
       "    <tr>\n",
       "      <th>2014-02-05 17:43:12</th>\n",
       "      <td>220091</td>\n",
       "      <td>170512167</td>\n",
       "      <td>10000.000</td>\n",
       "      <td>8.208700e+06</td>\n",
       "      <td>NaN</td>\n",
       "    </tr>\n",
       "    <tr>\n",
       "      <th>2014-02-05 17:43:12</th>\n",
       "      <td>220091</td>\n",
       "      <td>220091</td>\n",
       "      <td>0.017</td>\n",
       "      <td>1.395479e+01</td>\n",
       "      <td>NaN</td>\n",
       "    </tr>\n",
       "    <tr>\n",
       "      <th>2014-02-05 18:19:56</th>\n",
       "      <td>220091</td>\n",
       "      <td>10313926</td>\n",
       "      <td>10000.000</td>\n",
       "      <td>8.208700e+06</td>\n",
       "      <td>NaN</td>\n",
       "    </tr>\n",
       "  </tbody>\n",
       "</table>\n",
       "</div>"
      ],
      "text/plain": [
       "                     source     target      value     valueDoll time\n",
       "timestamp                                                           \n",
       "2014-02-05 17:33:30  220091   70839568  10000.000  8.208700e+06  NaN\n",
       "2014-02-05 17:34:02  220091    6679327  10000.000  8.208700e+06  NaN\n",
       "2014-02-05 17:37:03  220091   74658878  10000.000  8.208700e+06  NaN\n",
       "2014-02-05 17:37:03  220091   49001138  10000.000  8.208700e+06  NaN\n",
       "2014-02-05 17:43:12  220091   55107815  10000.000  8.208700e+06  NaN\n",
       "2014-02-05 17:43:12  220091  115170519  10000.000  8.208700e+06  NaN\n",
       "2014-02-05 17:43:12  220091  170512167  10000.000  8.208700e+06  NaN\n",
       "2014-02-05 17:43:12  220091     220091      0.017  1.395479e+01  NaN\n",
       "2014-02-05 18:19:56  220091   10313926  10000.000  8.208700e+06  NaN"
      ]
     },
     "execution_count": 24,
     "metadata": {},
     "output_type": "execute_result"
    }
   ],
   "source": [
    "data[data['source']==\"220091\"]"
   ]
  },
  {
   "cell_type": "markdown",
   "metadata": {},
   "source": [
    "Next, we also investigate the account \"107889339\":\n",
    "\n",
    "<img src=\"https://github.com/HongxiaTang/Mt.Gox/raw/master/Viet's%20code/107889339.png\" width=\"800\" height=\"800\">"
   ]
  },
  {
   "cell_type": "markdown",
   "metadata": {},
   "source": [
    "We can see that there were many transaction between this wallet and other wallets. But the biggest transaction went through this wallet was worth around 17,000 BTC from the account of \"118376908\" and to the account \"150403714\". After that, the 17,000 BTC stayed there until the end of the period."
   ]
  },
  {
   "cell_type": "code",
   "execution_count": 25,
   "metadata": {},
   "outputs": [
    {
     "data": {
      "text/html": [
       "<div>\n",
       "<style scoped>\n",
       "    .dataframe tbody tr th:only-of-type {\n",
       "        vertical-align: middle;\n",
       "    }\n",
       "\n",
       "    .dataframe tbody tr th {\n",
       "        vertical-align: top;\n",
       "    }\n",
       "\n",
       "    .dataframe thead th {\n",
       "        text-align: right;\n",
       "    }\n",
       "</style>\n",
       "<table border=\"1\" class=\"dataframe\">\n",
       "  <thead>\n",
       "    <tr style=\"text-align: right;\">\n",
       "      <th></th>\n",
       "      <th>source</th>\n",
       "      <th>target</th>\n",
       "      <th>value</th>\n",
       "      <th>valueDoll</th>\n",
       "      <th>time</th>\n",
       "    </tr>\n",
       "    <tr>\n",
       "      <th>timestamp</th>\n",
       "      <th></th>\n",
       "      <th></th>\n",
       "      <th></th>\n",
       "      <th></th>\n",
       "      <th></th>\n",
       "    </tr>\n",
       "  </thead>\n",
       "  <tbody>\n",
       "    <tr>\n",
       "      <th>2014-02-04 18:52:16</th>\n",
       "      <td>118376908</td>\n",
       "      <td>107889339</td>\n",
       "      <td>17464.77818</td>\n",
       "      <td>1.470552e+07</td>\n",
       "      <td>NaN</td>\n",
       "    </tr>\n",
       "    <tr>\n",
       "      <th>2014-02-04 19:15:53</th>\n",
       "      <td>107889339</td>\n",
       "      <td>107889339</td>\n",
       "      <td>17464.67808</td>\n",
       "      <td>1.470543e+07</td>\n",
       "      <td>NaN</td>\n",
       "    </tr>\n",
       "    <tr>\n",
       "      <th>2014-02-04 19:15:53</th>\n",
       "      <td>107889339</td>\n",
       "      <td>51924016</td>\n",
       "      <td>0.10000</td>\n",
       "      <td>8.420100e+01</td>\n",
       "      <td>NaN</td>\n",
       "    </tr>\n",
       "    <tr>\n",
       "      <th>2014-02-04 19:38:51</th>\n",
       "      <td>107889339</td>\n",
       "      <td>107889339</td>\n",
       "      <td>17264.67798</td>\n",
       "      <td>1.453703e+07</td>\n",
       "      <td>NaN</td>\n",
       "    </tr>\n",
       "    <tr>\n",
       "      <th>2014-02-04 19:38:51</th>\n",
       "      <td>107889339</td>\n",
       "      <td>50630657</td>\n",
       "      <td>200.00000</td>\n",
       "      <td>1.684020e+05</td>\n",
       "      <td>NaN</td>\n",
       "    </tr>\n",
       "    <tr>\n",
       "      <th>2014-02-04 19:53:15</th>\n",
       "      <td>107889339</td>\n",
       "      <td>150403714</td>\n",
       "      <td>16764.67788</td>\n",
       "      <td>1.411603e+07</td>\n",
       "      <td>NaN</td>\n",
       "    </tr>\n",
       "    <tr>\n",
       "      <th>2014-02-04 19:53:15</th>\n",
       "      <td>107889339</td>\n",
       "      <td>11522291</td>\n",
       "      <td>500.00000</td>\n",
       "      <td>4.210050e+05</td>\n",
       "      <td>NaN</td>\n",
       "    </tr>\n",
       "  </tbody>\n",
       "</table>\n",
       "</div>"
      ],
      "text/plain": [
       "                        source     target        value     valueDoll time\n",
       "timestamp                                                                \n",
       "2014-02-04 18:52:16  118376908  107889339  17464.77818  1.470552e+07  NaN\n",
       "2014-02-04 19:15:53  107889339  107889339  17464.67808  1.470543e+07  NaN\n",
       "2014-02-04 19:15:53  107889339   51924016      0.10000  8.420100e+01  NaN\n",
       "2014-02-04 19:38:51  107889339  107889339  17264.67798  1.453703e+07  NaN\n",
       "2014-02-04 19:38:51  107889339   50630657    200.00000  1.684020e+05  NaN\n",
       "2014-02-04 19:53:15  107889339  150403714  16764.67788  1.411603e+07  NaN\n",
       "2014-02-04 19:53:15  107889339   11522291    500.00000  4.210050e+05  NaN"
      ]
     },
     "execution_count": 25,
     "metadata": {},
     "output_type": "execute_result"
    }
   ],
   "source": [
    "data[(data['source']==\"107889339\")|(data['target']==\"107889339\")]"
   ]
  },
  {
   "cell_type": "markdown",
   "metadata": {},
   "source": [
    "Because of the many transactions, it is not convincing that the account might be cold wallet of MtGox or the 17,000 BTC was the hacked BTC unless they were hacked several days before and transfered through many wallets to reach the final account of \"150403714\"."
   ]
  },
  {
   "cell_type": "markdown",
   "metadata": {},
   "source": [
    "<font Size = 3>**Inward transactions (Weight In-Degree in Gephi)**</font>"
   ]
  },
  {
   "cell_type": "markdown",
   "metadata": {},
   "source": [
    "To look for similar potential ending account of the hack, we look at the graph based on the size of the in-transactions:\n",
    "\n",
    "<img src=\"https://github.com/HongxiaTang/Mt.Gox/raw/master/Viet's%20code/Weight_In.png\" width=\"800\" height=\"800\">"
   ]
  },
  {
   "cell_type": "markdown",
   "metadata": {},
   "source": [
    "The size of the nodes in this graph is completely different and we see the new account of \"2650872\" to be the biggest nodes.\n",
    "Here is the graph for that account specifically:\n",
    "\n",
    "<img src=\"https://github.com/HongxiaTang/Mt.Gox/raw/master/Viet's%20code/2650872.png\" width=\"800\" height=\"800\">"
   ]
  },
  {
   "cell_type": "markdown",
   "metadata": {},
   "source": [
    "This wallet received around 40,000 BTC in total from 11 different wallets with around 5000 BTC each. These transactions happened from 11pm Feb 5th to 0am Feb 6th and might be the cause for the high transaction during that time."
   ]
  },
  {
   "cell_type": "code",
   "execution_count": 26,
   "metadata": {},
   "outputs": [
    {
     "data": {
      "text/html": [
       "<div>\n",
       "<style scoped>\n",
       "    .dataframe tbody tr th:only-of-type {\n",
       "        vertical-align: middle;\n",
       "    }\n",
       "\n",
       "    .dataframe tbody tr th {\n",
       "        vertical-align: top;\n",
       "    }\n",
       "\n",
       "    .dataframe thead th {\n",
       "        text-align: right;\n",
       "    }\n",
       "</style>\n",
       "<table border=\"1\" class=\"dataframe\">\n",
       "  <thead>\n",
       "    <tr style=\"text-align: right;\">\n",
       "      <th></th>\n",
       "      <th>source</th>\n",
       "      <th>target</th>\n",
       "      <th>value</th>\n",
       "      <th>valueDoll</th>\n",
       "      <th>time</th>\n",
       "    </tr>\n",
       "    <tr>\n",
       "      <th>timestamp</th>\n",
       "      <th></th>\n",
       "      <th></th>\n",
       "      <th></th>\n",
       "      <th></th>\n",
       "      <th></th>\n",
       "    </tr>\n",
       "  </thead>\n",
       "  <tbody>\n",
       "    <tr>\n",
       "      <th>2014-02-05 21:15:12</th>\n",
       "      <td>32522843</td>\n",
       "      <td>2650872</td>\n",
       "      <td>0.0010</td>\n",
       "      <td>8.208700e-01</td>\n",
       "      <td>NaN</td>\n",
       "    </tr>\n",
       "    <tr>\n",
       "      <th>2014-02-05 21:15:12</th>\n",
       "      <td>3878090</td>\n",
       "      <td>2650872</td>\n",
       "      <td>0.0010</td>\n",
       "      <td>8.208700e-01</td>\n",
       "      <td>NaN</td>\n",
       "    </tr>\n",
       "    <tr>\n",
       "      <th>2014-02-05 21:37:45</th>\n",
       "      <td>161449110</td>\n",
       "      <td>2650872</td>\n",
       "      <td>0.0010</td>\n",
       "      <td>8.208700e-01</td>\n",
       "      <td>NaN</td>\n",
       "    </tr>\n",
       "    <tr>\n",
       "      <th>2014-02-05 21:37:45</th>\n",
       "      <td>32419088</td>\n",
       "      <td>2650872</td>\n",
       "      <td>0.0010</td>\n",
       "      <td>8.208700e-01</td>\n",
       "      <td>NaN</td>\n",
       "    </tr>\n",
       "    <tr>\n",
       "      <th>2014-02-05 21:37:45</th>\n",
       "      <td>125688459</td>\n",
       "      <td>2650872</td>\n",
       "      <td>0.0010</td>\n",
       "      <td>8.208700e-01</td>\n",
       "      <td>NaN</td>\n",
       "    </tr>\n",
       "    <tr>\n",
       "      <th>2014-02-05 21:37:45</th>\n",
       "      <td>49684464</td>\n",
       "      <td>2650872</td>\n",
       "      <td>0.0010</td>\n",
       "      <td>8.208700e-01</td>\n",
       "      <td>NaN</td>\n",
       "    </tr>\n",
       "    <tr>\n",
       "      <th>2014-02-05 21:37:45</th>\n",
       "      <td>112805323</td>\n",
       "      <td>2650872</td>\n",
       "      <td>0.0010</td>\n",
       "      <td>8.208700e-01</td>\n",
       "      <td>NaN</td>\n",
       "    </tr>\n",
       "    <tr>\n",
       "      <th>2014-02-05 21:37:45</th>\n",
       "      <td>135509970</td>\n",
       "      <td>2650872</td>\n",
       "      <td>0.0010</td>\n",
       "      <td>8.208700e-01</td>\n",
       "      <td>NaN</td>\n",
       "    </tr>\n",
       "    <tr>\n",
       "      <th>2014-02-05 21:37:45</th>\n",
       "      <td>90519843</td>\n",
       "      <td>2650872</td>\n",
       "      <td>0.0010</td>\n",
       "      <td>8.208700e-01</td>\n",
       "      <td>NaN</td>\n",
       "    </tr>\n",
       "    <tr>\n",
       "      <th>2014-02-05 21:37:45</th>\n",
       "      <td>26646654</td>\n",
       "      <td>2650872</td>\n",
       "      <td>0.0010</td>\n",
       "      <td>8.208700e-01</td>\n",
       "      <td>NaN</td>\n",
       "    </tr>\n",
       "    <tr>\n",
       "      <th>2014-02-05 21:37:45</th>\n",
       "      <td>116413384</td>\n",
       "      <td>2650872</td>\n",
       "      <td>0.0010</td>\n",
       "      <td>8.208700e-01</td>\n",
       "      <td>NaN</td>\n",
       "    </tr>\n",
       "    <tr>\n",
       "      <th>2014-02-05 23:51:11</th>\n",
       "      <td>112805323</td>\n",
       "      <td>2650872</td>\n",
       "      <td>4911.9997</td>\n",
       "      <td>3.849141e+06</td>\n",
       "      <td>NaN</td>\n",
       "    </tr>\n",
       "    <tr>\n",
       "      <th>2014-02-05 23:51:11</th>\n",
       "      <td>116413384</td>\n",
       "      <td>2650872</td>\n",
       "      <td>4993.9997</td>\n",
       "      <td>3.913398e+06</td>\n",
       "      <td>NaN</td>\n",
       "    </tr>\n",
       "    <tr>\n",
       "      <th>2014-02-05 23:51:11</th>\n",
       "      <td>26646654</td>\n",
       "      <td>2650872</td>\n",
       "      <td>4970.9997</td>\n",
       "      <td>3.895375e+06</td>\n",
       "      <td>NaN</td>\n",
       "    </tr>\n",
       "    <tr>\n",
       "      <th>2014-02-06 00:04:30</th>\n",
       "      <td>32522843</td>\n",
       "      <td>2650872</td>\n",
       "      <td>397.9997</td>\n",
       "      <td>3.118805e+05</td>\n",
       "      <td>NaN</td>\n",
       "    </tr>\n",
       "    <tr>\n",
       "      <th>2014-02-06 00:04:30</th>\n",
       "      <td>135509970</td>\n",
       "      <td>2650872</td>\n",
       "      <td>4933.9997</td>\n",
       "      <td>3.866381e+06</td>\n",
       "      <td>NaN</td>\n",
       "    </tr>\n",
       "    <tr>\n",
       "      <th>2014-02-06 00:15:11</th>\n",
       "      <td>3878090</td>\n",
       "      <td>2650872</td>\n",
       "      <td>2384.9999</td>\n",
       "      <td>1.868934e+06</td>\n",
       "      <td>NaN</td>\n",
       "    </tr>\n",
       "    <tr>\n",
       "      <th>2014-02-06 00:15:11</th>\n",
       "      <td>90519843</td>\n",
       "      <td>2650872</td>\n",
       "      <td>4570.9997</td>\n",
       "      <td>3.581927e+06</td>\n",
       "      <td>NaN</td>\n",
       "    </tr>\n",
       "    <tr>\n",
       "      <th>2014-02-06 00:15:11</th>\n",
       "      <td>32419088</td>\n",
       "      <td>2650872</td>\n",
       "      <td>4724.9997</td>\n",
       "      <td>3.702604e+06</td>\n",
       "      <td>NaN</td>\n",
       "    </tr>\n",
       "    <tr>\n",
       "      <th>2014-02-06 00:15:11</th>\n",
       "      <td>49684464</td>\n",
       "      <td>2650872</td>\n",
       "      <td>2336.9999</td>\n",
       "      <td>1.831320e+06</td>\n",
       "      <td>NaN</td>\n",
       "    </tr>\n",
       "    <tr>\n",
       "      <th>2014-02-06 00:15:11</th>\n",
       "      <td>125688459</td>\n",
       "      <td>2650872</td>\n",
       "      <td>4718.9997</td>\n",
       "      <td>3.697903e+06</td>\n",
       "      <td>NaN</td>\n",
       "    </tr>\n",
       "    <tr>\n",
       "      <th>2014-02-06 00:15:11</th>\n",
       "      <td>161449110</td>\n",
       "      <td>2650872</td>\n",
       "      <td>2422.9999</td>\n",
       "      <td>1.898711e+06</td>\n",
       "      <td>NaN</td>\n",
       "    </tr>\n",
       "  </tbody>\n",
       "</table>\n",
       "</div>"
      ],
      "text/plain": [
       "                        source   target      value     valueDoll time\n",
       "timestamp                                                            \n",
       "2014-02-05 21:15:12   32522843  2650872     0.0010  8.208700e-01  NaN\n",
       "2014-02-05 21:15:12    3878090  2650872     0.0010  8.208700e-01  NaN\n",
       "2014-02-05 21:37:45  161449110  2650872     0.0010  8.208700e-01  NaN\n",
       "2014-02-05 21:37:45   32419088  2650872     0.0010  8.208700e-01  NaN\n",
       "2014-02-05 21:37:45  125688459  2650872     0.0010  8.208700e-01  NaN\n",
       "2014-02-05 21:37:45   49684464  2650872     0.0010  8.208700e-01  NaN\n",
       "2014-02-05 21:37:45  112805323  2650872     0.0010  8.208700e-01  NaN\n",
       "2014-02-05 21:37:45  135509970  2650872     0.0010  8.208700e-01  NaN\n",
       "2014-02-05 21:37:45   90519843  2650872     0.0010  8.208700e-01  NaN\n",
       "2014-02-05 21:37:45   26646654  2650872     0.0010  8.208700e-01  NaN\n",
       "2014-02-05 21:37:45  116413384  2650872     0.0010  8.208700e-01  NaN\n",
       "2014-02-05 23:51:11  112805323  2650872  4911.9997  3.849141e+06  NaN\n",
       "2014-02-05 23:51:11  116413384  2650872  4993.9997  3.913398e+06  NaN\n",
       "2014-02-05 23:51:11   26646654  2650872  4970.9997  3.895375e+06  NaN\n",
       "2014-02-06 00:04:30   32522843  2650872   397.9997  3.118805e+05  NaN\n",
       "2014-02-06 00:04:30  135509970  2650872  4933.9997  3.866381e+06  NaN\n",
       "2014-02-06 00:15:11    3878090  2650872  2384.9999  1.868934e+06  NaN\n",
       "2014-02-06 00:15:11   90519843  2650872  4570.9997  3.581927e+06  NaN\n",
       "2014-02-06 00:15:11   32419088  2650872  4724.9997  3.702604e+06  NaN\n",
       "2014-02-06 00:15:11   49684464  2650872  2336.9999  1.831320e+06  NaN\n",
       "2014-02-06 00:15:11  125688459  2650872  4718.9997  3.697903e+06  NaN\n",
       "2014-02-06 00:15:11  161449110  2650872  2422.9999  1.898711e+06  NaN"
      ]
     },
     "execution_count": 26,
     "metadata": {},
     "output_type": "execute_result"
    }
   ],
   "source": [
    "data[data['target']==\"2650872\"]"
   ]
  },
  {
   "cell_type": "markdown",
   "metadata": {},
   "source": [
    "### Conclusion\n",
    "The network analysis of Bitcoin provides a feasible method for Bitcoin event investigation.\n",
    "For Mt.gox case, we assume that part of the hacking was performed by huge-amount & normal frequency transactions during the period of  21:30:00 2014-02-05, till 00:00:00 2014-02-06.<br>\n",
    "Several anonymous accounts were identified, like \"107889339\", \"220091\" and \"2650972\".However, the total output values of these edges only account for around 100,000 BTC (80,000 from account \"107889339\", 17,000 from account\"\"220091\").As for the receiver side, the wallet \"2650972\" received around 40,000 BTC in total from 11 different wallets with around 5000 BTC each, which can not explain the 850,000 BTC allegedly stolen from Mt.Gox.However, we didn't observe abnormal behavior from MtGox.<br>\n",
    "The possible explanation could be that we could only identify the hot wallet addresses of MtGox but not those of the cold wallet. As most of the hacked BTC was from MtGox's cold wallets and we cannot identify them, we can only suspect the hacking from the big transaction during the time.<br>\n",
    "Nevertheless, because the dataset did not contain the complete blockchain data, especially for the period after hacking, it's unable to determine the exact in-flow and out-flow of currency. Maybe we can trace their subsequent behavior given further dataset. In all, Our research provides a list of potential conspirators which could be a clue for this shocking hacking event in Bitcoin history."
   ]
  },
  {
   "cell_type": "markdown",
   "metadata": {},
   "source": [
    "## References\n",
    "<a id=\"1\">[1]</a> \n",
    "Zhao C, Guan Y. A graph-based investigation of bitcoin transactions. In: Proceedings of IFIP International Conference on Digital Forensics, Orlando, 2015. 79–95"
   ]
  }
 ],
 "metadata": {
  "kernelspec": {
   "display_name": "Python 3",
   "language": "python",
   "name": "python3"
  },
  "language_info": {
   "codemirror_mode": {
    "name": "ipython",
    "version": 3
   },
   "file_extension": ".py",
   "mimetype": "text/x-python",
   "name": "python",
   "nbconvert_exporter": "python",
   "pygments_lexer": "ipython3",
   "version": "3.7.3"
  }
 },
 "nbformat": 4,
 "nbformat_minor": 4
}
